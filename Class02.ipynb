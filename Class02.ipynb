{
  "nbformat": 4,
  "nbformat_minor": 0,
  "metadata": {
    "colab": {
      "provenance": [],
      "authorship_tag": "ABX9TyPcusPTPtY0Y1ooSfhEcwbI",
      "include_colab_link": true
    },
    "kernelspec": {
      "name": "python3",
      "display_name": "Python 3"
    },
    "language_info": {
      "name": "python"
    }
  },
  "cells": [
    {
      "cell_type": "markdown",
      "metadata": {
        "id": "view-in-github",
        "colab_type": "text"
      },
      "source": [
        "<a href=\"https://colab.research.google.com/github/mahnoorfatimafaizi/GIAIC-Quarter03-Onsite/blob/main/Class02.ipynb\" target=\"_parent\"><img src=\"https://colab.research.google.com/assets/colab-badge.svg\" alt=\"Open In Colab\"/></a>"
      ]
    },
    {
      "cell_type": "markdown",
      "source": [
        "# Escape Sequences: \\t and \\n\n",
        "\n",
        "\n",
        "\n",
        "*   \\t add a **tab space** (equal to 4 spaces)\n",
        "*   \\n moves text to a **new line**\n",
        "\n"
      ],
      "metadata": {
        "id": "x3S0ciUIYuIi"
      }
    },
    {
      "cell_type": "code",
      "execution_count": 1,
      "metadata": {
        "colab": {
          "base_uri": "https://localhost:8080/"
        },
        "id": "8EhckBZLYjXC",
        "outputId": "7be47669-35ec-4082-b376-185dcdaccc7d"
      },
      "outputs": [
        {
          "output_type": "stream",
          "name": "stdout",
          "text": [
            "Hello\tWorld\n"
          ]
        }
      ],
      "source": [
        "print(\"Hello\\tWorld\")"
      ]
    },
    {
      "cell_type": "code",
      "source": [
        "print(\"Hello World, \\nI am student\")"
      ],
      "metadata": {
        "colab": {
          "base_uri": "https://localhost:8080/"
        },
        "id": "yKsbbdvQZTYx",
        "outputId": "2d2e4c10-ed38-471c-8c7b-d8eaa14f381d"
      },
      "execution_count": 3,
      "outputs": [
        {
          "output_type": "stream",
          "name": "stdout",
          "text": [
            "Hello World, \n",
            "I am student\n"
          ]
        }
      ]
    },
    {
      "cell_type": "markdown",
      "source": [
        "# Character Extraction: Letter Count\n",
        "\n",
        "we can access individual characters of a string using their **index** (starting from 0)"
      ],
      "metadata": {
        "id": "mQWdK1DoZnA1"
      }
    },
    {
      "cell_type": "code",
      "source": [
        "message= \"Hello World\"\n",
        "print(message[4])"
      ],
      "metadata": {
        "colab": {
          "base_uri": "https://localhost:8080/"
        },
        "id": "2m3grZHbZfku",
        "outputId": "5b16fc63-0f03-44e8-e290-683f100470e1"
      },
      "execution_count": 5,
      "outputs": [
        {
          "output_type": "stream",
          "name": "stdout",
          "text": [
            "o\n"
          ]
        }
      ]
    },
    {
      "cell_type": "markdown",
      "source": [
        "# String Slicing\n",
        "\n",
        "Extract a portion of a string using slicing **(start:end)**. The end index is **not included**\n",
        "\n"
      ],
      "metadata": {
        "id": "FBsrccRKaRzM"
      }
    },
    {
      "cell_type": "code",
      "source": [
        "message: str = \"Hello World\"\n",
        "print(message[0:5])"
      ],
      "metadata": {
        "colab": {
          "base_uri": "https://localhost:8080/"
        },
        "id": "EFK9059MaLAv",
        "outputId": "f350511f-97f0-4499-db5c-60caab637e4b"
      },
      "execution_count": 21,
      "outputs": [
        {
          "output_type": "stream",
          "name": "stdout",
          "text": [
            "Hello\n"
          ]
        }
      ]
    },
    {
      "cell_type": "code",
      "source": [
        "print(message[6:11])\n"
      ],
      "metadata": {
        "colab": {
          "base_uri": "https://localhost:8080/"
        },
        "id": "Ry_F8dofbYd1",
        "outputId": "392f7f24-bbd6-49d4-c800-7cc33e1b0dc4"
      },
      "execution_count": 7,
      "outputs": [
        {
          "output_type": "stream",
          "name": "stdout",
          "text": [
            "World\n"
          ]
        }
      ]
    },
    {
      "cell_type": "markdown",
      "source": [
        "# Bytes In Python\n",
        "\n",
        "Bytes are used for **file transfers** and **memory-efficient operations**. In python, a bytes object stores raw data, similar to a string but in **byte form**."
      ],
      "metadata": {
        "id": "OmeJQa8RbmUB"
      }
    },
    {
      "cell_type": "code",
      "source": [
        "byte_data:bytes = b\"Hello\"\n",
        "print(byte_data[0])"
      ],
      "metadata": {
        "colab": {
          "base_uri": "https://localhost:8080/"
        },
        "id": "Gi5_86vtbg7-",
        "outputId": "8f1cafe1-0979-492f-ab9f-6b4596a8fde4"
      },
      "execution_count": 13,
      "outputs": [
        {
          "output_type": "stream",
          "name": "stdout",
          "text": [
            "72\n"
          ]
        }
      ]
    },
    {
      "cell_type": "code",
      "source": [
        "(byte_data[1])"
      ],
      "metadata": {
        "colab": {
          "base_uri": "https://localhost:8080/"
        },
        "id": "d_Z1vTXIcoA1",
        "outputId": "b23723cc-411c-4cf6-c1aa-0f81aca00366"
      },
      "execution_count": 14,
      "outputs": [
        {
          "output_type": "execute_result",
          "data": {
            "text/plain": [
              "101"
            ]
          },
          "metadata": {},
          "execution_count": 14
        }
      ]
    },
    {
      "cell_type": "code",
      "source": [
        "(byte_data[2])"
      ],
      "metadata": {
        "colab": {
          "base_uri": "https://localhost:8080/"
        },
        "id": "TCyl9-TycuvF",
        "outputId": "dbea303b-77ad-4cd7-b38e-aa01a73d78af"
      },
      "execution_count": 15,
      "outputs": [
        {
          "output_type": "execute_result",
          "data": {
            "text/plain": [
              "108"
            ]
          },
          "metadata": {},
          "execution_count": 15
        }
      ]
    },
    {
      "cell_type": "code",
      "source": [
        "(byte_data[3])"
      ],
      "metadata": {
        "colab": {
          "base_uri": "https://localhost:8080/"
        },
        "id": "tf120Jcfcznx",
        "outputId": "0468adba-ce26-42a7-f4bb-0bda784a852b"
      },
      "execution_count": 16,
      "outputs": [
        {
          "output_type": "execute_result",
          "data": {
            "text/plain": [
              "108"
            ]
          },
          "metadata": {},
          "execution_count": 16
        }
      ]
    },
    {
      "cell_type": "code",
      "source": [
        "(byte_data[4])"
      ],
      "metadata": {
        "colab": {
          "base_uri": "https://localhost:8080/"
        },
        "id": "CrJfbl0ic2F1",
        "outputId": "bbd8149d-8e35-48ae-dd74-bf55e4db0f76"
      },
      "execution_count": 17,
      "outputs": [
        {
          "output_type": "execute_result",
          "data": {
            "text/plain": [
              "111"
            ]
          },
          "metadata": {},
          "execution_count": 17
        }
      ]
    },
    {
      "cell_type": "markdown",
      "source": [
        "# Splitting Strings ( split() )\n",
        "\n",
        "The *split()* method **breaks a string** into a list of words based on spaces or given separator.\n"
      ],
      "metadata": {
        "id": "kM4FyAdCdEH8"
      }
    },
    {
      "cell_type": "code",
      "source": [
        "sentence: str = \"Today is Tuesday\"\n",
        "print(sentence.split())"
      ],
      "metadata": {
        "colab": {
          "base_uri": "https://localhost:8080/"
        },
        "id": "23j4LRL_djSP",
        "outputId": "7e48183e-50ce-427f-9601-4895e4c103e4"
      },
      "execution_count": 19,
      "outputs": [
        {
          "output_type": "stream",
          "name": "stdout",
          "text": [
            "['Today', 'is', 'Tuesday']\n"
          ]
        }
      ]
    },
    {
      "cell_type": "markdown",
      "source": [
        "# Joining Strings ( join() )\n",
        "\n",
        "The *join()* method **combines** a list into a string."
      ],
      "metadata": {
        "id": "oEstHh5Pd2c9"
      }
    },
    {
      "cell_type": "code",
      "source": [
        "words:str = [\"Today\", \"is\", \"Tuesday\"]\n",
        "print(\" \".join(words))"
      ],
      "metadata": {
        "colab": {
          "base_uri": "https://localhost:8080/"
        },
        "id": "Wy9mjmG3dtiv",
        "outputId": "990efb6a-1b6c-4361-9efd-c2d8732480b4"
      },
      "execution_count": 20,
      "outputs": [
        {
          "output_type": "stream",
          "name": "stdout",
          "text": [
            "Today is Tuesday\n"
          ]
        }
      ]
    },
    {
      "cell_type": "markdown",
      "source": [
        "# Conditional Statements ( if,elif,else )\n",
        "\n",
        "Used for **decision-making** in Python.\n",
        "\n",
        "\n",
        "\n"
      ],
      "metadata": {
        "id": "Ae39xoDleY_R"
      }
    },
    {
      "cell_type": "code",
      "source": [
        "age:int = 18\n",
        "\n",
        "if age < 18:\n",
        "  print(\"You are a minor.\")\n",
        "elif age == 18:\n",
        "  print(\"You just became an adult.\")\n",
        "else:\n",
        "  print(\"You are an adult.\")\n",
        "\n",
        ""
      ],
      "metadata": {
        "colab": {
          "base_uri": "https://localhost:8080/"
        },
        "id": "_ZVfjaXoeyUD",
        "outputId": "1dde25d5-2964-48d6-ef05-02f6a99f9580"
      },
      "execution_count": 24,
      "outputs": [
        {
          "output_type": "stream",
          "name": "stdout",
          "text": [
            "You just became an adult.\n"
          ]
        }
      ]
    },
    {
      "cell_type": "markdown",
      "source": [
        "# Dictionaries\n",
        "\n",
        "A **dictionary** stores key-value pairs, making data retrieval fast."
      ],
      "metadata": {
        "id": "33_ah6j8fpZH"
      }
    },
    {
      "cell_type": "code",
      "source": [
        "student = {\n",
        "    \"name\": \"Alice\",\n",
        "    \"age\": 20,\n",
        "    \"major\": \"Computer Science\"\n",
        "}\n",
        "print(student[\"name\"])"
      ],
      "metadata": {
        "colab": {
          "base_uri": "https://localhost:8080/"
        },
        "id": "4LGPWyyCfHTq",
        "outputId": "801d35b7-56e4-48db-e044-c357fa36dbfa"
      },
      "execution_count": 25,
      "outputs": [
        {
          "output_type": "stream",
          "name": "stdout",
          "text": [
            "Alice\n"
          ]
        }
      ]
    },
    {
      "cell_type": "code",
      "source": [
        "print(student[\"age\"])"
      ],
      "metadata": {
        "colab": {
          "base_uri": "https://localhost:8080/"
        },
        "id": "-R9BgtOuf76U",
        "outputId": "c8b6cb72-595e-4346-fd10-b8a3c5f29a77"
      },
      "execution_count": 26,
      "outputs": [
        {
          "output_type": "stream",
          "name": "stdout",
          "text": [
            "20\n"
          ]
        }
      ]
    },
    {
      "cell_type": "code",
      "source": [
        "print(student[\"major\"])"
      ],
      "metadata": {
        "colab": {
          "base_uri": "https://localhost:8080/"
        },
        "id": "hDsmx1YFgAZw",
        "outputId": "cfffaf58-ff31-4db1-f4e0-38c961f60c6d"
      },
      "execution_count": 27,
      "outputs": [
        {
          "output_type": "stream",
          "name": "stdout",
          "text": [
            "Computer Science\n"
          ]
        }
      ]
    },
    {
      "cell_type": "markdown",
      "source": [
        "# Tuples (Immutable List)\n",
        "\n",
        "A **tuple** is like a list but **cannot be changed** once created."
      ],
      "metadata": {
        "id": "EtNXcOZkgGbU"
      }
    },
    {
      "cell_type": "code",
      "source": [
        "coordinates = (10,20)\n",
        "print(coordinates[1])"
      ],
      "metadata": {
        "colab": {
          "base_uri": "https://localhost:8080/"
        },
        "id": "XYoDh-f4gCHB",
        "outputId": "5dd73d63-b534-4552-daef-5d26e924e147"
      },
      "execution_count": 29,
      "outputs": [
        {
          "output_type": "stream",
          "name": "stdout",
          "text": [
            "20\n"
          ]
        }
      ]
    },
    {
      "cell_type": "markdown",
      "source": [
        "Trying to modify a tuple will cause an error"
      ],
      "metadata": {
        "id": "FZIdIKnMgneD"
      }
    },
    {
      "cell_type": "code",
      "source": [],
      "metadata": {
        "id": "FiXFWiENgeOM"
      },
      "execution_count": null,
      "outputs": []
    }
  ]
}