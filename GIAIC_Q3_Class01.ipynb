{
  "nbformat": 4,
  "nbformat_minor": 0,
  "metadata": {
    "colab": {
      "provenance": [],
      "authorship_tag": "ABX9TyMflB9jsDNCN3nT0H+xGrTM",
      "include_colab_link": true
    },
    "kernelspec": {
      "name": "python3",
      "display_name": "Python 3"
    },
    "language_info": {
      "name": "python"
    }
  },
  "cells": [
    {
      "cell_type": "markdown",
      "metadata": {
        "id": "view-in-github",
        "colab_type": "text"
      },
      "source": [
        "<a href=\"https://colab.research.google.com/github/mahnoorfatimafaizi/GIAIC-Quarter03-Onsite/blob/main/GIAIC_Q3_Class01.ipynb\" target=\"_parent\"><img src=\"https://colab.research.google.com/assets/colab-badge.svg\" alt=\"Open In Colab\"/></a>"
      ]
    },
    {
      "cell_type": "markdown",
      "source": [
        "# GIAIC Quarter 3 Class 01"
      ],
      "metadata": {
        "id": "02WgZePez4QG"
      }
    },
    {
      "cell_type": "code",
      "source": [
        "print(\"Hello World\")"
      ],
      "metadata": {
        "colab": {
          "base_uri": "https://localhost:8080/"
        },
        "id": "fss1XiOn1DJy",
        "outputId": "99fa41c9-22a2-4043-c684-3122d474e7bc"
      },
      "execution_count": null,
      "outputs": [
        {
          "output_type": "stream",
          "name": "stdout",
          "text": [
            "Hello World\n"
          ]
        }
      ]
    },
    {
      "cell_type": "code",
      "source": [
        "print(\"Hello Class\")"
      ],
      "metadata": {
        "colab": {
          "base_uri": "https://localhost:8080/"
        },
        "id": "G2COn5-W0QVX",
        "outputId": "c45d004c-f57e-4a21-fa18-39816fe0df83"
      },
      "execution_count": null,
      "outputs": [
        {
          "output_type": "stream",
          "name": "stdout",
          "text": [
            "Hello Class\n"
          ]
        }
      ]
    },
    {
      "cell_type": "markdown",
      "source": [
        "### **CPU and GPU**\n",
        "* CPU can perform a single task at a time and GPU can perform multiple task at a time.\n",
        "* CPU is used to perform unique task, best for complex task.\n",
        "* GPU is use in gaming, AI.\n",
        "* CPU is use in running a computer, apps."
      ],
      "metadata": {
        "id": "DrxfMv0f2Nb8"
      }
    },
    {
      "cell_type": "markdown",
      "source": [
        "## **TPU** = Tensor Prosseing Unit\n",
        "* More faster than GPU\n",
        "* Only use for AI"
      ],
      "metadata": {
        "id": "5bz883O_2pbP"
      }
    },
    {
      "cell_type": "markdown",
      "source": [
        "## **Python**\n",
        "* It's a high level language.\n",
        "* Python is an Interpreted language.\n",
        "* Used in AI, Machine Learning, Web Development and etc."
      ],
      "metadata": {
        "id": "uLFZ339x5zac"
      }
    },
    {
      "cell_type": "markdown",
      "source": [
        "Python Diagram from repo"
      ],
      "metadata": {
        "id": "N_CzIHtcArAn"
      }
    },
    {
      "cell_type": "code",
      "source": [
        "first_name: str = \"Mahnoor\"\n",
        "# to check types\n",
        "print(type(first_name))"
      ],
      "metadata": {
        "colab": {
          "base_uri": "https://localhost:8080/"
        },
        "id": "Lf48j9XDAuBb",
        "outputId": "b2f1d563-ea0b-4484-f0dd-32d41e83af19"
      },
      "execution_count": null,
      "outputs": [
        {
          "output_type": "stream",
          "name": "stdout",
          "text": [
            "<class 'str'>\n"
          ]
        }
      ]
    },
    {
      "cell_type": "markdown",
      "source": [
        "Good practice is to write types."
      ],
      "metadata": {
        "id": "xXggMMfLBI7u"
      }
    },
    {
      "cell_type": "code",
      "source": [
        "name: str = \"John\"\n",
        "message: str = \"How are you?\"\n",
        "\n",
        "print( f\"{name}, {message}\")"
      ],
      "metadata": {
        "colab": {
          "base_uri": "https://localhost:8080/"
        },
        "id": "w9cgKOKqBWxs",
        "outputId": "3943b990-d9ca-495d-9608-7ec63adf0a3d"
      },
      "execution_count": null,
      "outputs": [
        {
          "output_type": "stream",
          "name": "stdout",
          "text": [
            "John, How are you?\n"
          ]
        }
      ]
    },
    {
      "cell_type": "code",
      "source": [
        "name: str = \"John\"\n",
        "email: str = f\"\"\" Hi {name},\n",
        "You won a lottery of $1 Million.\"\"\"\n",
        "\n",
        "print (email)\n",
        "\n",
        "# id function tells the location of the variable\n",
        "\n",
        "print(id(print))"
      ],
      "metadata": {
        "colab": {
          "base_uri": "https://localhost:8080/"
        },
        "id": "ABVB8XvFHMYZ",
        "outputId": "2d9474ea-60b6-42f6-977c-16b39536a460"
      },
      "execution_count": 16,
      "outputs": [
        {
          "output_type": "stream",
          "name": "stdout",
          "text": [
            " Hi John, \n",
            "You won a lottery of $1 Million.\n",
            "135373451859648\n"
          ]
        }
      ]
    },
    {
      "cell_type": "code",
      "source": [
        "fruits = [\"Apple\", \"Mango\", \"Banana\", \"Orange\", \"Grapes\"]\n",
        "\n",
        "# length\n",
        "len(fruits)\n",
        "\n",
        "# index\n",
        "print(fruits[2])\n",
        "\n",
        "# slicing ' printing between the number '\n",
        "print(fruits[1:3])\n",
        "\n",
        "# if you write in minus it count from end\n",
        "print(fruits[-2])"
      ],
      "metadata": {
        "colab": {
          "base_uri": "https://localhost:8080/"
        },
        "id": "xXNrzWkuK-uY",
        "outputId": "cadc8b41-b883-4532-ab5a-cc6317d9df32"
      },
      "execution_count": 22,
      "outputs": [
        {
          "output_type": "stream",
          "name": "stdout",
          "text": [
            "Banana\n",
            "['Mango', 'Banana']\n",
            "Orange\n"
          ]
        }
      ]
    },
    {
      "cell_type": "markdown",
      "source": [
        "### Assignment For The Week\n",
        "\n",
        "* Growth Mindset Challenge.\n",
        "* Steps 01 to 07 from repository."
      ],
      "metadata": {
        "id": "1cnh2QiSQapG"
      }
    }
  ]
}